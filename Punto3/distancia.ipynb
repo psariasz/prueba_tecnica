{
 "cells": [
  {
   "cell_type": "code",
   "execution_count": 1,
   "metadata": {},
   "outputs": [],
   "source": [
    "import time\n",
    "import math"
   ]
  },
  {
   "cell_type": "code",
   "execution_count": 2,
   "metadata": {},
   "outputs": [],
   "source": [
    "def distancia(p1, p2):\n",
    "    return math.sqrt((p1[0] - p2[0])**2 + (p1[1] - p2[1])**2)\n",
    "\n",
    "def puntos_mas_cercanos(puntos):\n",
    "    puntos.sort()\n",
    "\n",
    "    def div_conquista(puntos):\n",
    "        n = len(puntos)\n",
    "        if n <= 3:\n",
    "            mejor_distancia = float('inf')\n",
    "            for i in range(n):\n",
    "                for j in range(i + 1, n):\n",
    "                    dist = distancia(puntos[i], puntos[j])\n",
    "                    if dist < mejor_distancia:\n",
    "                        mejor_distancia = dist\n",
    "                        mejor_par = (puntos[i], puntos[j])\n",
    "            return mejor_distancia, mejor_par\n",
    "\n",
    "        punto_medio = n // 2\n",
    "        punto_medio_x = puntos[punto_medio][0]\n",
    "\n",
    "        distancia_izq, par_izq = div_conquista(puntos[:punto_medio])\n",
    "        distancia_der, par_der = div_conquista(puntos[punto_medio:])\n",
    "\n",
    "        if distancia_izq < distancia_der:\n",
    "            mejor_distancia = distancia_izq\n",
    "            mejor_par = par_izq\n",
    "        else:\n",
    "            mejor_distancia = distancia_der\n",
    "            mejor_par = par_der\n",
    "\n",
    "        franja = [punto for punto in puntos if abs(punto[0] - punto_medio_x) < mejor_distancia]\n",
    "        franja.sort(key=lambda punto: punto[1])\n",
    "\n",
    "        for i in range(len(franja)):\n",
    "            for j in range(i + 1, len(franja)):\n",
    "                if franja[j][1] - franja[i][1] >= mejor_distancia:\n",
    "                    break\n",
    "                dist = distancia(franja[i], franja[j])\n",
    "                if dist < mejor_distancia:\n",
    "                    mejor_distancia = dist\n",
    "                    mejor_par = (franja[i], franja[j])\n",
    "\n",
    "        return mejor_distancia, mejor_par\n",
    "\n",
    "    return div_conquista(puntos)"
   ]
  },
  {
   "cell_type": "code",
   "execution_count": 9,
   "metadata": {},
   "outputs": [
    {
     "name": "stdout",
     "output_type": "stream",
     "text": [
      "Tiempo transcurrido: 0.14189997455105186 milisegundos\n",
      "La distancia mínima entre dos puntos es: 1.4142135623730951\n",
      "Los puntos más cercanos son: ((6, 3), (7, 4))\n"
     ]
    }
   ],
   "source": [
    "inicio = time.perf_counter()\n",
    "puntos = [(2, 2), (2, 8), (5, 5), (6, 3), (6, 7), (7, 4),(7,9)]\n",
    "distancia_minima, puntos_cercanos = puntos_mas_cercanos(puntos)\n",
    "fin = time.perf_counter()\n",
    "tiempo_transcurrido = (fin - inicio)*1000\n",
    "print(\"Tiempo transcurrido:\", tiempo_transcurrido, \"milisegundos\")\n",
    "print(\"La distancia mínima entre dos puntos es:\", distancia_minima)\n",
    "print(\"Los puntos más cercanos son:\", puntos_cercanos)\n"
   ]
  },
  {
   "cell_type": "code",
   "execution_count": 4,
   "metadata": {},
   "outputs": [],
   "source": [
    "def euclidean_distance(point1, point2):\n",
    "    return math.sqrt((point1[0] - point2[0])**2 + (point1[1] - point2[1])**2)\n",
    "\n",
    "def find_closest_points(points):\n",
    "    min_distance = float('inf')\n",
    "    closest_points = None\n",
    "\n",
    "    num_points = len(points)\n",
    "    if num_points < 2:\n",
    "        return None\n",
    "\n",
    "    for i in range(num_points):\n",
    "        for j in range(i+1, num_points):\n",
    "            distance = euclidean_distance(points[i], points[j])\n",
    "            if distance < min_distance:\n",
    "                min_distance = distance\n",
    "                closest_points = (points[i], points[j])\n",
    "\n",
    "    return closest_points, min_distance"
   ]
  },
  {
   "cell_type": "code",
   "execution_count": 10,
   "metadata": {},
   "outputs": [
    {
     "name": "stdout",
     "output_type": "stream",
     "text": [
      "Tiempo transcurrido: 0.02050003968179226 milisegundos\n",
      "Los dos puntos más cercanos son: ((6, 3), (7, 4))\n",
      "La distancia entre ellos es: 1.4142135623730951\n"
     ]
    }
   ],
   "source": [
    "if __name__ == \"__main__\":\n",
    "    inicio = time.perf_counter()\n",
    "    points = [(2, 2), (2, 8), (5, 5), (6, 3), (6, 7), (7, 4),(7,9)]\n",
    "    \n",
    "    closest_points, min_distance = find_closest_points(points)\n",
    "    fin = time.perf_counter()\n",
    "    tiempo_transcurrido = (fin - inicio)*1000\n",
    "    print(\"Tiempo transcurrido:\", tiempo_transcurrido, \"milisegundos\")\n",
    "    if closest_points:\n",
    "        print(\"Los dos puntos más cercanos son:\", closest_points)\n",
    "        print(\"La distancia entre ellos es:\", min_distance)\n",
    "    else:\n",
    "        print(\"No hay suficientes puntos para calcular la distancia.\")"
   ]
  }
 ],
 "metadata": {
  "kernelspec": {
   "display_name": "env",
   "language": "python",
   "name": "python3"
  },
  "language_info": {
   "codemirror_mode": {
    "name": "ipython",
    "version": 3
   },
   "file_extension": ".py",
   "mimetype": "text/x-python",
   "name": "python",
   "nbconvert_exporter": "python",
   "pygments_lexer": "ipython3",
   "version": "3.11.4"
  }
 },
 "nbformat": 4,
 "nbformat_minor": 2
}
